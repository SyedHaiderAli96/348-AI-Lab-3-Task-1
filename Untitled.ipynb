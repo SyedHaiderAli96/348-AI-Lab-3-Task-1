{
 "cells": [
  {
   "cell_type": "code",
   "execution_count": 1,
   "id": "c0e42cb4-094c-4295-8182-f0526884c687",
   "metadata": {},
   "outputs": [
    {
     "name": "stdin",
     "output_type": "stream",
     "text": [
      "Enter a number 5\n"
     ]
    },
    {
     "name": "stdout",
     "output_type": "stream",
     "text": [
      "8\n",
      "16\n",
      "12\n",
      "15\n"
     ]
    }
   ],
   "source": [
    "num=int(input(\"Enter a number\"))\n",
    "var = num+3\n",
    "print(var)\n",
    "var1 = var * 2\n",
    "print(var1)\n",
    "var2 = var1 - 4\n",
    "print(var2)\n",
    "var3 = var2 + 3\n",
    "print(var3)"
   ]
  },
  {
   "cell_type": "code",
   "execution_count": 3,
   "id": "004721ca-df3b-4fb6-a7c7-2e6ca6ca3922",
   "metadata": {},
   "outputs": [
    {
     "name": "stdin",
     "output_type": "stream",
     "text": [
      "ener a celcius number 343\n"
     ]
    },
    {
     "name": "stdout",
     "output_type": "stream",
     "text": [
      "649.4\n"
     ]
    }
   ],
   "source": [
    "celcius = int(input(\"ener a celcius number\"))\n",
    "farenheit = ((celcius*1.8)+32)\n",
    "print(farenheit)"
   ]
  },
  {
   "cell_type": "code",
   "execution_count": 5,
   "id": "307c59cf-10e9-4fbf-a089-269e1aa016bb",
   "metadata": {},
   "outputs": [
    {
     "name": "stdin",
     "output_type": "stream",
     "text": [
      "Enter a radius 23\n"
     ]
    },
    {
     "name": "stdout",
     "output_type": "stream",
     "text": [
      "23\n",
      "1661.0600000000002\n"
     ]
    }
   ],
   "source": [
    "#Area of circle\n",
    "radius = int(input(\"Enter a radius\"))\n",
    "pi=3.14\n",
    "A = (pi*(radius*radius))\n",
    "print(radius)\n",
    "print(A)"
   ]
  },
  {
   "cell_type": "code",
   "execution_count": 8,
   "id": "6b3eaab5-481f-4111-ba4b-963a165ea9b0",
   "metadata": {},
   "outputs": [
    {
     "name": "stdout",
     "output_type": "stream",
     "text": [
      "blueblueblueblueblueblueblueblueblueblue\n",
      "blue                              blue\n",
      "blueblueblueblueblueblueblueblueblueblue\n"
     ]
    }
   ],
   "source": [
    "def print_blue_pattern():\n",
    "    rows = 3\n",
    "    for i in range(rows):\n",
    "        if i == 1:\n",
    "            print(\"blue\" + \" \" * 30 + \"blue\")\n",
    "        else:\n",
    "            print(\"blue\" * 10)\n",
    "\n",
    "print_blue_pattern()"
   ]
  },
  {
   "cell_type": "code",
   "execution_count": null,
   "id": "1e2dad04-9d48-4afa-b55e-5a2be7f6c3fb",
   "metadata": {},
   "outputs": [],
   "source": []
  }
 ],
 "metadata": {
  "kernelspec": {
   "display_name": "Python 3 (ipykernel)",
   "language": "python",
   "name": "python3"
  },
  "language_info": {
   "codemirror_mode": {
    "name": "ipython",
    "version": 3
   },
   "file_extension": ".py",
   "mimetype": "text/x-python",
   "name": "python",
   "nbconvert_exporter": "python",
   "pygments_lexer": "ipython3",
   "version": "3.12.4"
  }
 },
 "nbformat": 4,
 "nbformat_minor": 5
}
